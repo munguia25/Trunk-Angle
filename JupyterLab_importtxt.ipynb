{
 "cells": [
  {
   "cell_type": "code",
   "execution_count": 350,
   "id": "1c4f6d2e-90e0-47e3-a6c2-b0db7556b37b",
   "metadata": {},
   "outputs": [],
   "source": [
    "# Created on 2021-Oct-26th \n",
    "#author: Vicente\n",
    "\n",
    "# importing txt files using Jupyter Lab"
   ]
  },
  {
   "cell_type": "code",
   "execution_count": 351,
   "id": "428fde45-4b0e-4687-a873-527156173e3c",
   "metadata": {},
   "outputs": [],
   "source": [
    "import numpy as np \n",
    "import pandas as pd\n",
    "import matplotlib.pyplot as plt\n",
    "import os\n",
    "import pathlib\n",
    "\n",
    "from io import StringIO\n",
    "# Initialize matplotlib\n",
    "\n",
    "%matplotlib inline\n",
    "\n",
    "# We'll see what this code does later on:\n",
    "plt.rcParams[\"figure.figsize\"] = [10, 8]\n",
    "import seaborn as sns\n",
    "from plotnine import *"
   ]
  },
  {
   "cell_type": "code",
   "execution_count": 352,
   "id": "84da6f11-fbba-46cb-bd1f-5e422ae0e391",
   "metadata": {},
   "outputs": [
    {
     "data": {
      "text/plain": [
       "'C:\\\\Users\\\\Vicente\\\\Google Drive\\\\Occupational Bio-mechanics\\\\Extra Resources\\\\YEI gear'"
      ]
     },
     "execution_count": 352,
     "metadata": {},
     "output_type": "execute_result"
    }
   ],
   "source": [
    "# returns current working directory of a process \n",
    "os.getcwd() "
   ]
  },
  {
   "cell_type": "code",
   "execution_count": 353,
   "id": "f5d05dcd-6c87-4c40-95c1-7427fb88d8c0",
   "metadata": {},
   "outputs": [],
   "source": [
    "# construct an absolute path with foward slashes instead of back\n",
    "#df = pathlib.Path(r'C:\\Users\\Vicente\\Google Drive\\Occupational Bio-mechanics\\Extra Resources\\YEI gear\\Sampledata.txt')\n",
    "\n",
    "# construct a relative path w/ fwd slashes instead of back\n",
    "df = pathlib.Path('Sampledata.txt')"
   ]
  },
  {
   "cell_type": "code",
   "execution_count": 354,
   "id": "3e6f2d32-e8a2-4669-8bed-7c38c9731878",
   "metadata": {},
   "outputs": [],
   "source": [
    "# absolute path ; the prepended r stands for raw, raw string literals, which \n",
    "# will cause backslashes in the string to be interpreted as actual backslashes rather than special characters - escape character\n",
    "# fname = r'C:\\Users\\Vicente\\Google Drive\\Occupational Bio-mechanics\\Extra Resources\\YEI gear\\Sampledata.txt'"
   ]
  },
  {
   "cell_type": "code",
   "execution_count": 355,
   "id": "680e8094-9fae-4abc-ab08-94fa4d675e60",
   "metadata": {},
   "outputs": [
    {
     "name": "stderr",
     "output_type": "stream",
     "text": [
      "C:\\Users\\Vicente\\anaconda3\\lib\\site-packages\\pandas\\util\\_decorators.py:311: ParserWarning: Falling back to the 'python' engine because the 'c' engine does not support regex separators (separators > 1 char and different from '\\s+' are interpreted as regex); you can avoid this warning by specifying engine='python'.\n"
     ]
    }
   ],
   "source": [
    "DataS = pd.read_csv(df,sep=\",|\\s+\",header=0, \n",
    "                             names=[\"Date\",\"CorAccelX\",\"AccelY\",\"AccelZ\",\"GyroX\",\"GyroY\",\"GyroZ\"])\n"
   ]
  },
  {
   "cell_type": "code",
   "execution_count": 356,
   "id": "b6ea4d3d-c3a1-4cb9-9675-01ce9a28e6c0",
   "metadata": {},
   "outputs": [
    {
     "name": "stdout",
     "output_type": "stream",
     "text": [
      "OG data set dimension: (698, 7)\n",
      "Subset dimensions: (698,)\n"
     ]
    }
   ],
   "source": [
    "print('OG data set dimension:', DataS.shape) # returns (row,columns)\n",
    "xDir = DataS.iloc[:,1] # access a certain column in our DataFrame\n",
    "print('Subset dimensions:', xDir.shape) "
   ]
  },
  {
   "cell_type": "code",
   "execution_count": 357,
   "id": "41c36ee7-c925-45cf-8b34-524167452575",
   "metadata": {},
   "outputs": [
    {
     "name": "stdout",
     "output_type": "stream",
     "text": [
      "Five lines \n",
      " 0    1.01172\n",
      "1    0.99902\n",
      "2    1.01563\n",
      "3    1.03613\n",
      "4    1.25098\n",
      "Name: AccelY, dtype: float64\n"
     ]
    }
   ],
   "source": [
    "# DataS.iloc[:,2]\n",
    "# accelY = DataS[\"AccelY\"].copy() #creates a copy of the list\n",
    "\n",
    "# selecting columns by label\n",
    "# DataS.loc[:,\"AccelY\"] #specify the name of the column in order to retrieve it.\n",
    "Ay = DataS[\"AccelY\"]\n",
    "print('Five lines \\n', Ay.head())"
   ]
  },
  {
   "cell_type": "code",
   "execution_count": 358,
   "id": "e5995900-12ee-48eb-a3c5-7f9aad9294bf",
   "metadata": {},
   "outputs": [
    {
     "data": {
      "text/plain": [
       "0    1472801\n",
       "1    1482334\n",
       "2    1491867\n",
       "3    1501400\n",
       "4    1510928\n",
       "Name: Date, dtype: int64"
      ]
     },
     "execution_count": 358,
     "metadata": {},
     "output_type": "execute_result"
    }
   ],
   "source": [
    "# extracting miliseconds column\n",
    "Ax = DataS.loc[:,\"Date\"]\n",
    "Ax.head()"
   ]
  },
  {
   "cell_type": "code",
   "execution_count": 359,
   "id": "8e521f65-b23a-4d4f-a154-1d1576b497f4",
   "metadata": {},
   "outputs": [],
   "source": [
    "# print('*******************************************')\n",
    "# # X-Dir Accel\n",
    "# # Convert data ito numpy array\n",
    "# Ar= np.array(DataS)\n",
    "# #print('Converted txt into np.array:',Ar)\n",
    "# #print('Dimensions', Ar.shape)\n",
    "# sub1 = Ar[:,1]\n",
    "# #print('Dimension of subset txt:',sub1.shape)\n",
    "# It is not necessary to convert DataS into numpy array"
   ]
  },
  {
   "cell_type": "code",
   "execution_count": 360,
   "id": "d39b059e-b200-452c-a12c-7a33650a5096",
   "metadata": {},
   "outputs": [],
   "source": [
    "# print('*******************************************')\n",
    "# # Y-Dir Accel\n",
    "# # Convert data ito numpy array\n",
    "# Ar2= np.array(DataS)\n",
    "# #print('Converted txt into np.array:',Ar)\n",
    "# print('Dimensions', Ar.shape)\n",
    "# sub2 = Ar2[:,2]\n",
    "# print('Dimension of subset txt:',sub1.shape)"
   ]
  },
  {
   "cell_type": "code",
   "execution_count": 361,
   "id": "ef7d0088-ddfd-4058-9f02-fa5b4387a76b",
   "metadata": {},
   "outputs": [],
   "source": [
    "# # visualization w/ matplotlib\n",
    "# t = np.linspace(0,698,698)\n",
    "\n",
    "# plt.subplot(2, 1, 1)\n",
    "# #plt.scatter(t,sub1)\n",
    "# plt.scatter(t,xDir)\n",
    "# plt.xlabel('Miliseconds')\n",
    "# plt.title('X Acceleration')\n",
    "\n",
    "# # plt.subplot(2, 1, 2)\n",
    "# # plt.scatter(t,accelY)\n",
    "# # plt.xlabel('Miliseconds')\n",
    "# # plt.title('Y Acceleration')\n",
    "\n",
    "# plt.tight_layout()\n",
    "# plt.show()"
   ]
  },
  {
   "cell_type": "code",
   "execution_count": 362,
   "id": "84093003-9a46-4023-91f8-6bd1582f472b",
   "metadata": {},
   "outputs": [
    {
     "data": {
      "image/png": "[encoded data removed]",
      "text/plain": [
       "<Figure size 640x480 with 1 Axes>"
      ]
     },
     "metadata": {},
     "output_type": "display_data"
    },
    {
     "data": {
      "text/plain": [
       "<ggplot: (-9223371886406640324)>"
      ]
     },
     "execution_count": 362,
     "metadata": {},
     "output_type": "execute_result"
    }
   ],
   "source": [
    "# using plotnine\n",
    "(\n",
    "    ggplot(DataS, aes(x=\"Date\", y= \"AccelY\"))\n",
    "    + geom_line()\n",
    ")"
   ]
  },
  {
   "cell_type": "code",
   "execution_count": 363,
   "id": "43c1cb2f-ce64-43de-85ef-deb04a50d3df",
   "metadata": {},
   "outputs": [
    {
     "data": {
      "image/png": "[encoded data removed]",
      "text/plain": [
       "<Figure size 720x576 with 1 Axes>"
      ]
     },
     "metadata": {
      "needs_background": "light"
     },
     "output_type": "display_data"
    }
   ],
   "source": [
    "# using seaborne\n",
    "sns.regplot(x=DataS[\"Date\"], y=DataS[\"AccelY\"])\n",
    "# ax = sns.regplot(x=DataS.loc[:,\"Date\"], y=DataS.loc[:,\"AceelY\"], fit_reg=False) # make a scatterplot without regression fit\n",
    "\n",
    "plt.show()"
   ]
  },
  {
   "cell_type": "code",
   "execution_count": null,
   "id": "99ef9560-fb4f-45bb-bc40-8b9b3baea2de",
   "metadata": {},
   "outputs": [],
   "source": []
  }
 ],
 "metadata": {
  "kernelspec": {
   "display_name": "Python 3",
   "language": "python",
   "name": "python3"
  },
  "language_info": {
   "codemirror_mode": {
    "name": "ipython",
    "version": 3
   },
   "file_extension": ".py",
   "mimetype": "text/x-python",
   "name": "python",
   "nbconvert_exporter": "python",
   "pygments_lexer": "ipython3",
   "version": "3.7.6"
  }
 },
 "nbformat": 4,
 "nbformat_minor": 5
}
